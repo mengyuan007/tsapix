{
 "cells": [
  {
   "cell_type": "code",
   "execution_count": null,
   "id": "a356bdd8",
   "metadata": {},
   "outputs": [],
   "source": [
    "from tsapix.envbase import *\n",
    "from tsapix.utils import env_db_root\n",
    "\n",
    "from tsapi.ibkr.qqq import *"
   ]
  },
  {
   "cell_type": "code",
   "execution_count": null,
   "id": "a89c0b64",
   "metadata": {
    "scrolled": true
   },
   "outputs": [],
   "source": [
    "import yfinance as yf\n",
    "\n",
    "qqqpx = yf.download('QQQ')\n",
    "qqqpxpd = qqqpx.xs('QQQ', axis=1, level=1)"
   ]
  },
  {
   "cell_type": "code",
   "execution_count": null,
   "id": "36dfb94f",
   "metadata": {},
   "outputs": [],
   "source": [
    "# import os\n",
    "# import pandas as pd\n",
    "\n",
    "# ohlcv2root = env_db_root+\"/QQQ/ohlcv2/\"\n",
    "# ohlcv2fs = sorted(os.listdir(ohlcv2root))\n",
    "# ohlcv2fs_curs = [f for f in ohlcv2fs if \".csv\" in f]\n",
    "# # ohlcv2fs_cur\n",
    "# _qqqpxpds = [pd.read_csv(ohlcv2root + ohlcv2fs_cur, index_col=0) for ohlcv2fs_cur in ohlcv2fs_curs]\n",
    "\n",
    "# qqqpxpd = pd.DataFrame({\n",
    "#     'Date': [ohlcv2fs_cur.replace(\".csv\", \"\") for ohlcv2fs_cur in ohlcv2fs_curs],\n",
    "#     'Open': [_qqqpxpd['1'].values[0] for _qqqpxpd in _qqqpxpds],\n",
    "#     'High': [_qqqpxpd['2'].max() for _qqqpxpd in _qqqpxpds],\n",
    "#     'Low': [_qqqpxpd['3'].min() for _qqqpxpd in _qqqpxpds],\n",
    "#     'Close': [_qqqpxpd['4'].values[-1] for _qqqpxpd in _qqqpxpds],\n",
    "# }).set_index('Date')\n",
    "# qqqpxpd"
   ]
  },
  {
   "cell_type": "code",
   "execution_count": null,
   "id": "db233235",
   "metadata": {},
   "outputs": [],
   "source": [
    "qqqpxpd.index[-1]"
   ]
  },
  {
   "cell_type": "code",
   "execution_count": null,
   "id": "072d3ca9",
   "metadata": {},
   "outputs": [],
   "source": [
    "app = DataApp()\n",
    "app.connect(\"127.0.0.1\", 4001, 0)\n",
    "threading.Thread(target=app.run).start()\n",
    "time.sleep(1)\n"
   ]
  },
  {
   "cell_type": "code",
   "execution_count": null,
   "id": "65993a42",
   "metadata": {
    "code_folding": [],
    "scrolled": true
   },
   "outputs": [],
   "source": [
    "rtlist = ['C', 'P']\n",
    "# ltdlist = [f\"{xdt} 16:00:00 US/Eastern\" for xdt in [\n",
    "#     (datetime.datetime.today() - datetime.timedelta(x)).strftime(\"%Y%m%d\") for x in range(1, 2)\n",
    "# ]]\n",
    "ltdlist = [f\"{xdt} 16:00:00 US/Eastern\" for xdt in [\n",
    "    (datetime.datetime.today() - datetime.timedelta(x)).strftime(\"%Y%m%d\") for x in range(1,2)\n",
    "]]\n",
    "barsetting = [(\"1 D\", \"1 min\", \"TRADES\")]\n",
    "# barsetting = [(\"1 D\", \"5 mins\", \"TRADES\")]\n",
    "\n",
    "from itertools import product\n",
    "\n",
    "_reqlist = list(product(rtlist, ltdlist, barsetting))\n",
    "\n",
    "paramslog = {}\n",
    "\n",
    "from tqdm import tqdm\n",
    "\n",
    "for _req in tqdm(_reqlist):\n",
    "    _rt, _ltd, _bst = _req\n",
    "    _ltddate = _ltd.split(\" \")[0]\n",
    "    stkrange = range(int(qqqpxpd.loc[_ltddate]['Low'])-5, int(qqqpxpd.loc[_ltddate]['High'])+5)\n",
    "    for _stk in stkrange:\n",
    "        _contract = init_qqq_options(_ltddate, _rt, _stk)\n",
    "        \n",
    "        _reqid = app.nextId()\n",
    "        paramslog[_reqid] = [_rt, _ltd, _bst, _ltddate, _stk]\n",
    "        print(\"Processing\", _reqid, paramslog[_reqid])\n",
    "        app.reqHistoricalData(\n",
    "            _reqid, \n",
    "            _contract, \n",
    "            _ltd, \n",
    "            _bst[0], \n",
    "            _bst[1], \n",
    "            _bst[2], \n",
    "            1, \n",
    "            1, \n",
    "            False, \n",
    "            [])\n",
    "        \n",
    "#         try:\n",
    "#             get_qqq_bardatapd(app.datapool[_reqid], _reqid)\n",
    "#         except:\n",
    "#             print(\"extract datapd failed\", _reqid)\n",
    "        \n",
    "#         if _reqid%10==0:\n",
    "#             time.sleep(10)"
   ]
  },
  {
   "cell_type": "code",
   "execution_count": null,
   "id": "67df9c2c",
   "metadata": {},
   "outputs": [],
   "source": [
    "_bst[1].replace(\" \", \"\")"
   ]
  },
  {
   "cell_type": "code",
   "execution_count": null,
   "id": "80bac51d",
   "metadata": {
    "code_folding": [
     0
    ]
   },
   "outputs": [],
   "source": [
    "def get_qqq_bardatapd(rawdatalist, _reqid, suffix=None, savepath=None, paramslog={}):\n",
    "    import re\n",
    "    import pandas as pd\n",
    "    import os\n",
    "    barsdata = re.findall(\n",
    "    \"([0-9]{2}[:][0-9]{2}[:][0-9]{2}) US/Eastern, Open: ([.0-9]+), High: ([.0-9]+), Low: ([.0-9]+), Close: ([.0-9]+), Volume: ([.0-9]+)\", \n",
    "    \" \".join([str(x) for x in rawdatalist]))\n",
    "    _rt, _ltd, _bst, _ltddate, _stk = paramslog[_reqid]\n",
    "    frq = _bst[1].replace(\" \", \"\")\n",
    "    fpath = f'{savepath}/{_ltddate}/'\n",
    "    os.makedirs(fpath, exist_ok=True)\n",
    "    if suffix is None:\n",
    "        pd.DataFrame(barsdata).to_csv(f'{fpath}/0DTE{_rt}{_stk}_{frq}.csv')\n",
    "    else:\n",
    "        pd.DataFrame(barsdata).to_csv(f'{fpath}/0DTE{_rt}{_stk}_{frq}.csv')"
   ]
  },
  {
   "cell_type": "code",
   "execution_count": null,
   "id": "9c4d3e11",
   "metadata": {},
   "outputs": [],
   "source": [
    "strdatapool = {}\n",
    "for k, v in app.datapool.items():\n",
    "    strdatapool[k] = [str(x) for x in v]\n",
    "    \n",
    "save_root = env_db_root + \"/QQQ/options/\"\n",
    "os.makedirs(save_root, exist_ok=True)\n",
    "\n",
    "for k, v in strdatapool.items():\n",
    "    _suffix = \"{}{}{}_{}\".format(paramslog[k][3], paramslog[k][0], paramslog[k][4], paramslog[k][2][1])\n",
    "    get_qqq_bardatapd(v, k, _suffix, \n",
    "                      savepath=save_root, paramslog=paramslog)\n",
    "\n",
    "    "
   ]
  },
  {
   "cell_type": "markdown",
   "id": "77ddfb3c",
   "metadata": {},
   "source": [
    " "
   ]
  },
  {
   "cell_type": "markdown",
   "id": "23112b16",
   "metadata": {},
   "source": [
    " "
   ]
  },
  {
   "cell_type": "markdown",
   "id": "4b5d7471",
   "metadata": {},
   "source": [
    " "
   ]
  },
  {
   "cell_type": "markdown",
   "id": "4cfd37a7",
   "metadata": {},
   "source": [
    " "
   ]
  },
  {
   "cell_type": "markdown",
   "id": "a009ba53",
   "metadata": {},
   "source": [
    " "
   ]
  },
  {
   "cell_type": "markdown",
   "id": "21af8415",
   "metadata": {},
   "source": [
    " "
   ]
  },
  {
   "cell_type": "markdown",
   "id": "2cc5e4e5",
   "metadata": {},
   "source": [
    " "
   ]
  },
  {
   "cell_type": "markdown",
   "id": "ae66630e",
   "metadata": {},
   "source": [
    " "
   ]
  },
  {
   "cell_type": "markdown",
   "id": "f4aff032",
   "metadata": {},
   "source": [
    " "
   ]
  },
  {
   "cell_type": "markdown",
   "id": "0731c68a",
   "metadata": {},
   "source": [
    " "
   ]
  },
  {
   "cell_type": "markdown",
   "id": "6dcb87d9",
   "metadata": {},
   "source": [
    " "
   ]
  },
  {
   "cell_type": "markdown",
   "id": "c186a134",
   "metadata": {},
   "source": [
    "# Fake Options Data ..."
   ]
  },
  {
   "cell_type": "code",
   "execution_count": null,
   "id": "3f8efd33",
   "metadata": {},
   "outputs": [],
   "source": [
    "import pandas as pd\n",
    "import os\n",
    "from tsapi.univ_utils import save_as_yaml\n",
    "\n",
    "qqqfroot = env_db_root + \"/QQQ/\"\n",
    "\n",
    "ohlcvroot = env_db_root + \"/QQQ/ohlcv2/\"\n",
    "optionsroot = env_db_root + \"/QQQ/options/\""
   ]
  },
  {
   "cell_type": "code",
   "execution_count": null,
   "id": "422545f9",
   "metadata": {},
   "outputs": [],
   "source": [
    "ohlcvfs = [f.replace(\".csv\", \"\") for f in os.listdir(ohlcvroot) if \".csv\" in f]"
   ]
  },
  {
   "cell_type": "code",
   "execution_count": null,
   "id": "f85f7158",
   "metadata": {},
   "outputs": [],
   "source": [
    "optionsfs = [f for f in os.listdir(optionsroot) if \".\" not in f]"
   ]
  },
  {
   "cell_type": "code",
   "execution_count": null,
   "id": "5d731b82",
   "metadata": {},
   "outputs": [],
   "source": [
    "no_options_fs = sorted([f for f in ohlcvfs if f not in optionsfs])"
   ]
  },
  {
   "cell_type": "code",
   "execution_count": null,
   "id": "fa268d6a",
   "metadata": {},
   "outputs": [],
   "source": [
    "save_as_yaml(f\"{qqqfroot}/fake_options_fs.yaml\", no_options_fs)\n",
    "# no_options_fs"
   ]
  },
  {
   "cell_type": "code",
   "execution_count": null,
   "id": "6d8a61c9",
   "metadata": {},
   "outputs": [
    {
     "name": "stdout",
     "output_type": "stream",
     "text": [
      "reqId: -1, errorCode: 2107, errorString: HMDS data farm connection is inactive but should be available upon demand.ushmds, orderReject: \n"
     ]
    }
   ],
   "source": [
    "# sample_optionsf1 = pd.read_csv(optionsroot+\"20250718\"+\"/0DTEP560_1min.csv\", index_col=0)\n",
    "# sample_optionsf2 = pd.read_csv(optionsroot+\"20250718\"+\"/0DTEC560_1min.csv\", index_col=0)"
   ]
  },
  {
   "cell_type": "code",
   "execution_count": null,
   "id": "e4374141",
   "metadata": {},
   "outputs": [],
   "source": [
    "import os\n",
    "\n",
    "for f in no_options_fs:\n",
    "    froot = optionsroot+f\n",
    "    os.makedirs(froot, exist_ok=True)\n",
    "    for i in range(3):\n",
    "        sample_optionsf1.to_csv(froot+f\"/0DTEP{560+i}_1min.csv\")\n",
    "        sample_optionsf2.to_csv(froot+f\"/0DTEC{560+i}_1min.csv\")"
   ]
  },
  {
   "cell_type": "code",
   "execution_count": null,
   "id": "11e8722b",
   "metadata": {},
   "outputs": [],
   "source": []
  }
 ],
 "metadata": {
  "hide_input": false,
  "kernelspec": {
   "display_name": "Python 3 (ipykernel)",
   "language": "python",
   "name": "python3"
  },
  "language_info": {
   "codemirror_mode": {
    "name": "ipython",
    "version": 3
   },
   "file_extension": ".py",
   "mimetype": "text/x-python",
   "name": "python",
   "nbconvert_exporter": "python",
   "pygments_lexer": "ipython3",
   "version": "3.11.5"
  }
 },
 "nbformat": 4,
 "nbformat_minor": 5
}
