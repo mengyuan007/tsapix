{
 "cells": [
  {
   "cell_type": "code",
   "execution_count": 2,
   "id": "d8923702",
   "metadata": {},
   "outputs": [],
   "source": [
    "from tsapix.envbase import *"
   ]
  },
  {
   "cell_type": "code",
   "execution_count": 3,
   "id": "b430c0d0",
   "metadata": {},
   "outputs": [],
   "source": [
    "import tsapix\n",
    "from tsapix.spider.eastmoney import *\n",
    "from tsapix.tools.taskbase import free_memory, exe_time_limit"
   ]
  },
  {
   "cell_type": "code",
   "execution_count": 4,
   "id": "ba1cdf23",
   "metadata": {},
   "outputs": [],
   "source": [
    "import logging\n",
    "from datetime import date\n",
    "import time"
   ]
  },
  {
   "cell_type": "code",
   "execution_count": 6,
   "id": "a8a28a26",
   "metadata": {},
   "outputs": [
    {
     "data": {
      "text/plain": [
       "['600000', '600004', '600006', '600007', '600008']"
      ]
     },
     "execution_count": 6,
     "metadata": {},
     "output_type": "execute_result"
    }
   ],
   "source": [
    "tuiv = tsapix.spider.base.a_code_univlist[:5]\n",
    "tuiv"
   ]
  },
  {
   "cell_type": "code",
   "execution_count": 7,
   "id": "ddd3a486",
   "metadata": {
    "scrolled": true
   },
   "outputs": [
    {
     "name": "stderr",
     "output_type": "stream",
     "text": [
      "100%|███████████████████████████████████████████| 5/5 [00:00<00:00, 3817.17it/s]\n"
     ]
    },
    {
     "name": "stdout",
     "output_type": "stream",
     "text": [
      "name 'tsapi' is not defined\n"
     ]
    }
   ],
   "source": [
    "single_task_timelmt = 60 * 60 * 30\n",
    "\n",
    "for a, b in [\n",
    "    ('d', 'bfq'),\n",
    "]:\n",
    "    try:\n",
    "        with exe_time_limit(single_task_timelmt):\n",
    "            xobj = HistPX(a, b, tickers=tuiv, start=\"2011-12-31\", end=date.today().strftime(\"%Y-%m-%d\"), lmt='1000000')\n",
    "            xobj.download(chunk_size=200)\n",
    "\n",
    "            xobj.get_cube_and_save(pairname=f'histpx_{a}_{b}', froot=tsapi.spider.eastmoney._save_root_base+\"/cube/\")\n",
    "    except Exception as e:\n",
    "        print(e)\n",
    "        logging.error(e)\n",
    "\n",
    "    free_memory([xobj,])\n",
    "    time.sleep(10)"
   ]
  },
  {
   "cell_type": "code",
   "execution_count": 6,
   "id": "115938a0",
   "metadata": {},
   "outputs": [
    {
     "data": {
      "text/plain": [
       "'/Users/my/Library/Mobile Documents/com~apple~CloudDocs//data/'"
      ]
     },
     "execution_count": 6,
     "metadata": {},
     "output_type": "execute_result"
    }
   ],
   "source": [
    "tsapi.spider.eastmoney._save_root_base"
   ]
  },
  {
   "cell_type": "code",
   "execution_count": null,
   "id": "7f0a7900",
   "metadata": {},
   "outputs": [],
   "source": []
  },
  {
   "cell_type": "code",
   "execution_count": null,
   "id": "bdf1ffae",
   "metadata": {},
   "outputs": [],
   "source": []
  }
 ],
 "metadata": {
  "hide_input": false,
  "kernelspec": {
   "display_name": "Python 3 (ipykernel)",
   "language": "python",
   "name": "python3"
  },
  "language_info": {
   "codemirror_mode": {
    "name": "ipython",
    "version": 3
   },
   "file_extension": ".py",
   "mimetype": "text/x-python",
   "name": "python",
   "nbconvert_exporter": "python",
   "pygments_lexer": "ipython3",
   "version": "3.11.5"
  }
 },
 "nbformat": 4,
 "nbformat_minor": 5
}
