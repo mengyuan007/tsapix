{
 "cells": [
  {
   "cell_type": "code",
   "execution_count": 1,
   "id": "3503cc7b",
   "metadata": {},
   "outputs": [
    {
     "ename": "KeyboardInterrupt",
     "evalue": "",
     "output_type": "error",
     "traceback": [
      "\u001b[0;31m---------------------------------------------------------------------------\u001b[0m",
      "\u001b[0;31mKeyboardInterrupt\u001b[0m                         Traceback (most recent call last)",
      "Cell \u001b[0;32mIn[1], line 13\u001b[0m\n\u001b[1;32m      8\u001b[0m \u001b[38;5;66;03m# Start a while loop \u001b[39;00m\n\u001b[1;32m      9\u001b[0m \u001b[38;5;28;01mwhile\u001b[39;00m(\u001b[38;5;241m1\u001b[39m): \n\u001b[1;32m     10\u001b[0m \t\n\u001b[1;32m     11\u001b[0m \t\u001b[38;5;66;03m# Reading the video from the \u001b[39;00m\n\u001b[1;32m     12\u001b[0m \t\u001b[38;5;66;03m# webcam in image frames \u001b[39;00m\n\u001b[0;32m---> 13\u001b[0m \t_, imageFrame \u001b[38;5;241m=\u001b[39m webcam\u001b[38;5;241m.\u001b[39mread() \n\u001b[1;32m     15\u001b[0m \t\u001b[38;5;66;03m# Convert the imageFrame in \u001b[39;00m\n\u001b[1;32m     16\u001b[0m \t\u001b[38;5;66;03m# BGR(RGB color space) to \u001b[39;00m\n\u001b[1;32m     17\u001b[0m \t\u001b[38;5;66;03m# HSV(hue-saturation-value) \u001b[39;00m\n\u001b[1;32m     18\u001b[0m \t\u001b[38;5;66;03m# color space \u001b[39;00m\n\u001b[1;32m     19\u001b[0m \thsvFrame \u001b[38;5;241m=\u001b[39m cv2\u001b[38;5;241m.\u001b[39mcvtColor(imageFrame, cv2\u001b[38;5;241m.\u001b[39mCOLOR_BGR2HSV) \n",
      "\u001b[0;31mKeyboardInterrupt\u001b[0m: "
     ]
    }
   ],
   "source": [
    "import numpy as np \n",
    "import cv2 \n",
    "\n",
    "\n",
    "# Capturing video through webcam \n",
    "webcam = cv2.VideoCapture(0) \n",
    "\n",
    "# Start a while loop \n",
    "while(1): \n",
    "\t\n",
    "\t# Reading the video from the \n",
    "\t# webcam in image frames \n",
    "\t_, imageFrame = webcam.read() \n",
    "\n",
    "\t# Convert the imageFrame in \n",
    "\t# BGR(RGB color space) to \n",
    "\t# HSV(hue-saturation-value) \n",
    "\t# color space \n",
    "\thsvFrame = cv2.cvtColor(imageFrame, cv2.COLOR_BGR2HSV) \n",
    "\n",
    "\t# Set range for red color and \n",
    "\t# define mask \n",
    "\tred_lower = np.array([136, 87, 111], np.uint8) \n",
    "\tred_upper = np.array([180, 255, 255], np.uint8) \n",
    "\tred_mask = cv2.inRange(hsvFrame, red_lower, red_upper) \n",
    "\n",
    "\t# Set range for green color and \n",
    "\t# define mask \n",
    "\tgreen_lower = np.array([25, 52, 72], np.uint8) \n",
    "\tgreen_upper = np.array([102, 255, 255], np.uint8) \n",
    "\tgreen_mask = cv2.inRange(hsvFrame, green_lower, green_upper) \n",
    "\n",
    "\t# Set range for blue color and \n",
    "\t# define mask \n",
    "\tblue_lower = np.array([94, 80, 2], np.uint8) \n",
    "\tblue_upper = np.array([120, 255, 255], np.uint8) \n",
    "\tblue_mask = cv2.inRange(hsvFrame, blue_lower, blue_upper) \n",
    "\t\n",
    "\t# Morphological Transform, Dilation \n",
    "\t# for each color and bitwise_and operator \n",
    "\t# between imageFrame and mask determines \n",
    "\t# to detect only that particular color \n",
    "\tkernel = np.ones((5, 5), \"uint8\") \n",
    "\t\n",
    "\t# For red color \n",
    "\tred_mask = cv2.dilate(red_mask, kernel) \n",
    "\tres_red = cv2.bitwise_and(imageFrame, imageFrame, \n",
    "\t\t\t\t\t\t\tmask = red_mask) \n",
    "\t\n",
    "\t# For green color \n",
    "\tgreen_mask = cv2.dilate(green_mask, kernel) \n",
    "\tres_green = cv2.bitwise_and(imageFrame, imageFrame, \n",
    "\t\t\t\t\t\t\t\tmask = green_mask) \n",
    "\t\n",
    "\t# For blue color \n",
    "\tblue_mask = cv2.dilate(blue_mask, kernel) \n",
    "\tres_blue = cv2.bitwise_and(imageFrame, imageFrame, \n",
    "\t\t\t\t\t\t\tmask = blue_mask) \n",
    "\n",
    "\t# Creating contour to track red color \n",
    "\tcontours, hierarchy = cv2.findContours(red_mask, \n",
    "\t\t\t\t\t\t\t\t\t\tcv2.RETR_TREE, \n",
    "\t\t\t\t\t\t\t\t\t\tcv2.CHAIN_APPROX_SIMPLE) \n",
    "\t\n",
    "\tfor pic, contour in enumerate(contours): \n",
    "\t\tarea = cv2.contourArea(contour) \n",
    "\t\tif(area > 300): \n",
    "\t\t\tx, y, w, h = cv2.boundingRect(contour) \n",
    "\t\t\timageFrame = cv2.rectangle(imageFrame, (x, y), \n",
    "\t\t\t\t\t\t\t\t\t(x + w, y + h), \n",
    "\t\t\t\t\t\t\t\t\t(0, 0, 255), 2) \n",
    "\t\t\t\n",
    "\t\t\tcv2.putText(imageFrame, \"Red Colour\", (x, y), \n",
    "\t\t\t\t\t\tcv2.FONT_HERSHEY_SIMPLEX, 1.0, \n",
    "\t\t\t\t\t\t(0, 0, 255))\t \n",
    "\n",
    "\t# Creating contour to track green color \n",
    "\tcontours, hierarchy = cv2.findContours(green_mask, \n",
    "\t\t\t\t\t\t\t\t\t\tcv2.RETR_TREE, \n",
    "\t\t\t\t\t\t\t\t\t\tcv2.CHAIN_APPROX_SIMPLE) \n",
    "\t\n",
    "\tfor pic, contour in enumerate(contours): \n",
    "\t\tarea = cv2.contourArea(contour) \n",
    "\t\tif(area > 300): \n",
    "\t\t\tx, y, w, h = cv2.boundingRect(contour) \n",
    "\t\t\timageFrame = cv2.rectangle(imageFrame, (x, y), \n",
    "\t\t\t\t\t\t\t\t\t(x + w, y + h), \n",
    "\t\t\t\t\t\t\t\t\t(0, 255, 0), 2) \n",
    "\t\t\t\n",
    "\t\t\tcv2.putText(imageFrame, \"Green Colour\", (x, y), \n",
    "\t\t\t\t\t\tcv2.FONT_HERSHEY_SIMPLEX, \n",
    "\t\t\t\t\t\t1.0, (0, 255, 0)) \n",
    "\n",
    "\t# Creating contour to track blue color \n",
    "\tcontours, hierarchy = cv2.findContours(blue_mask, \n",
    "\t\t\t\t\t\t\t\t\t\tcv2.RETR_TREE, \n",
    "\t\t\t\t\t\t\t\t\t\tcv2.CHAIN_APPROX_SIMPLE) \n",
    "\tfor pic, contour in enumerate(contours): \n",
    "\t\tarea = cv2.contourArea(contour) \n",
    "\t\tif(area > 300): \n",
    "\t\t\tx, y, w, h = cv2.boundingRect(contour) \n",
    "\t\t\timageFrame = cv2.rectangle(imageFrame, (x, y), \n",
    "\t\t\t\t\t\t\t\t\t(x + w, y + h), \n",
    "\t\t\t\t\t\t\t\t\t(255, 0, 0), 2) \n",
    "\t\t\t\n",
    "\t\t\tcv2.putText(imageFrame, \"Blue Colour\", (x, y), \n",
    "\t\t\t\t\t\tcv2.FONT_HERSHEY_SIMPLEX, \n",
    "\t\t\t\t\t\t1.0, (255, 0, 0)) \n",
    "\t\t\t\n",
    "\t# Program Termination \n",
    "\tcv2.imshow(\"Multiple Color Detection in Real-TIme\", imageFrame) \n",
    "\tif cv2.waitKey(10) & 0xFF == ord('q'): \n",
    "\t\twebcam.release() \n",
    "\t\tcv2.destroyAllWindows() \n",
    "\t\tbreak"
   ]
  },
  {
   "cell_type": "code",
   "execution_count": null,
   "id": "03a13b8f",
   "metadata": {},
   "outputs": [],
   "source": [
    "from PIL import ImageGrab\n",
    "import numpy as np\n",
    "import cv2\n",
    "while(True):\n",
    "    img = ImageGrab.grab(bbox=(100,10,400,780)) #bbox specifies specific region (bbox= x,y,width,height)\n",
    "    img_np = np.array(img)\n",
    "    frame = cv2.cvtColor(img_np, cv2.COLOR_BGR2GRAY)\n",
    "    cv2.imshow(\"test\", frame)\n",
    "    cv2.waitKey(0)\n",
    "cv2.destroyAllWindows()"
   ]
  },
  {
   "cell_type": "code",
   "execution_count": null,
   "id": "c6977720",
   "metadata": {},
   "outputs": [],
   "source": [
    "import numpy as np\n",
    "import cv2\n",
    "from mss import mss\n",
    "from PIL import Image\n",
    "\n",
    "sct = mss()\n",
    "\n",
    "while 1:\n",
    "    w, h = 800, 640\n",
    "    monitor = {'top': 0, 'left': 0, 'width': w, 'height': h}\n",
    "    img = Image.frombytes('RGB', (w,h), sct.grab(monitor).rgb)\n",
    "    cv2.imshow('test', cv2.cvtColor(np.array(img), cv2.COLOR_RGB2BGR))\n",
    "    if cv2.waitKey(25) & 0xFF == ord('q'):\n",
    "        cv2.destroyAllWindows()\n",
    "        break"
   ]
  },
  {
   "cell_type": "code",
   "execution_count": 1,
   "id": "228196b4",
   "metadata": {},
   "outputs": [],
   "source": [
    "# pip install mss"
   ]
  },
  {
   "cell_type": "code",
   "execution_count": null,
   "id": "a4f9be79",
   "metadata": {},
   "outputs": [],
   "source": [
    "## import mss\n",
    "import numpy\n",
    "\n",
    "with mss.mss() as sct:\n",
    "    monitor = {'top': 40, 'left': 0, 'width': 800, 'height': 640}\n",
    "    img = numpy.array(sct.grab(monitor))\n",
    "    print(img)"
   ]
  },
  {
   "cell_type": "code",
   "execution_count": null,
   "id": "d8e5caa0",
   "metadata": {},
   "outputs": [],
   "source": []
  },
  {
   "cell_type": "code",
   "execution_count": null,
   "id": "d2413afd",
   "metadata": {},
   "outputs": [],
   "source": []
  },
  {
   "cell_type": "code",
   "execution_count": 22,
   "id": "a4a54cb1",
   "metadata": {
    "scrolled": true
   },
   "outputs": [
    {
     "ename": "KeyboardInterrupt",
     "evalue": "",
     "output_type": "error",
     "traceback": [
      "\u001b[0;31m---------------------------------------------------------------------------\u001b[0m",
      "\u001b[0;31mKeyboardInterrupt\u001b[0m                         Traceback (most recent call last)",
      "Cell \u001b[0;32mIn[22], line 11\u001b[0m\n\u001b[1;32m      8\u001b[0m \u001b[38;5;66;03m# video = VideoWriter('desktop.mp4', VideoWriter_fourcc(*'MP42'), 7, (1366, 768))\u001b[39;00m\n\u001b[1;32m     10\u001b[0m \u001b[38;5;28;01mwhile\u001b[39;00m \u001b[38;5;28;01mTrue\u001b[39;00m:\n\u001b[0;32m---> 11\u001b[0m     screenshot \u001b[38;5;241m=\u001b[39m cv2\u001b[38;5;241m.\u001b[39mcvtColor(np\u001b[38;5;241m.\u001b[39marray(pg\u001b[38;5;241m.\u001b[39mscreenshot(region\u001b[38;5;241m=\u001b[39m(\u001b[38;5;241m1272\u001b[39m, \u001b[38;5;241m676\u001b[39m, \u001b[38;5;241m1327\u001b[39m\u001b[38;5;241m-\u001b[39m\u001b[38;5;241m1272\u001b[39m, \u001b[38;5;241m834\u001b[39m\u001b[38;5;241m-\u001b[39m\u001b[38;5;241m676\u001b[39m))), cv2\u001b[38;5;241m.\u001b[39mCOLOR_RGB2BGR)\n\u001b[1;32m     13\u001b[0m \u001b[38;5;66;03m#     video.write(screenshot) # write video frame\u001b[39;00m\n\u001b[1;32m     15\u001b[0m     cv2\u001b[38;5;241m.\u001b[39mimshow(\u001b[38;5;124m'\u001b[39m\u001b[38;5;124mScreenshot\u001b[39m\u001b[38;5;124m'\u001b[39m, screenshot) \u001b[38;5;66;03m# display screenshot in a window\u001b[39;00m\n",
      "File \u001b[0;32m~/Documents/anaconda/anaconda3/lib/python3.11/site-packages/pyscreeze/__init__.py:579\u001b[0m, in \u001b[0;36m_screenshot_osx\u001b[0;34m(imageFilename, region)\u001b[0m\n\u001b[1;32m    576\u001b[0m \u001b[38;5;28;01melse\u001b[39;00m:\n\u001b[1;32m    577\u001b[0m     \u001b[38;5;66;03m# Use ImageGrab.grab() to get the screenshot if Pillow version 6.3.2 or later is installed.\u001b[39;00m\n\u001b[1;32m    578\u001b[0m     \u001b[38;5;28;01mif\u001b[39;00m region \u001b[38;5;129;01mis\u001b[39;00m \u001b[38;5;129;01mnot\u001b[39;00m \u001b[38;5;28;01mNone\u001b[39;00m:\n\u001b[0;32m--> 579\u001b[0m         im \u001b[38;5;241m=\u001b[39m ImageGrab\u001b[38;5;241m.\u001b[39mgrab(bbox\u001b[38;5;241m=\u001b[39m(region[\u001b[38;5;241m0\u001b[39m], region[\u001b[38;5;241m1\u001b[39m], region[\u001b[38;5;241m2\u001b[39m] \u001b[38;5;241m+\u001b[39m region[\u001b[38;5;241m0\u001b[39m], region[\u001b[38;5;241m3\u001b[39m] \u001b[38;5;241m+\u001b[39m region[\u001b[38;5;241m1\u001b[39m]))\n\u001b[1;32m    580\u001b[0m     \u001b[38;5;28;01melse\u001b[39;00m:\n\u001b[1;32m    581\u001b[0m         \u001b[38;5;66;03m# Get full screen for screenshot\u001b[39;00m\n\u001b[1;32m    582\u001b[0m         im \u001b[38;5;241m=\u001b[39m ImageGrab\u001b[38;5;241m.\u001b[39mgrab()\n",
      "File \u001b[0;32m~/Documents/anaconda/anaconda3/lib/python3.11/site-packages/PIL/ImageGrab.py:38\u001b[0m, in \u001b[0;36mgrab\u001b[0;34m(bbox, include_layered_windows, all_screens, xdisplay)\u001b[0m\n\u001b[1;32m     36\u001b[0m     left, top, right, bottom \u001b[38;5;241m=\u001b[39m bbox\n\u001b[1;32m     37\u001b[0m     args \u001b[38;5;241m+\u001b[39m\u001b[38;5;241m=\u001b[39m [\u001b[38;5;124m\"\u001b[39m\u001b[38;5;124m-R\u001b[39m\u001b[38;5;124m\"\u001b[39m, \u001b[38;5;124mf\u001b[39m\u001b[38;5;124m\"\u001b[39m\u001b[38;5;132;01m{\u001b[39;00mleft\u001b[38;5;132;01m}\u001b[39;00m\u001b[38;5;124m,\u001b[39m\u001b[38;5;132;01m{\u001b[39;00mtop\u001b[38;5;132;01m}\u001b[39;00m\u001b[38;5;124m,\u001b[39m\u001b[38;5;132;01m{\u001b[39;00mright\u001b[38;5;241m-\u001b[39mleft\u001b[38;5;132;01m}\u001b[39;00m\u001b[38;5;124m,\u001b[39m\u001b[38;5;132;01m{\u001b[39;00mbottom\u001b[38;5;241m-\u001b[39mtop\u001b[38;5;132;01m}\u001b[39;00m\u001b[38;5;124m\"\u001b[39m]\n\u001b[0;32m---> 38\u001b[0m subprocess\u001b[38;5;241m.\u001b[39mcall(args \u001b[38;5;241m+\u001b[39m [\u001b[38;5;124m\"\u001b[39m\u001b[38;5;124m-x\u001b[39m\u001b[38;5;124m\"\u001b[39m, filepath])\n\u001b[1;32m     39\u001b[0m im \u001b[38;5;241m=\u001b[39m Image\u001b[38;5;241m.\u001b[39mopen(filepath)\n\u001b[1;32m     40\u001b[0m im\u001b[38;5;241m.\u001b[39mload()\n",
      "File \u001b[0;32m~/Documents/anaconda/anaconda3/lib/python3.11/subprocess.py:391\u001b[0m, in \u001b[0;36mcall\u001b[0;34m(timeout, *popenargs, **kwargs)\u001b[0m\n\u001b[1;32m    389\u001b[0m \u001b[38;5;28;01mwith\u001b[39;00m Popen(\u001b[38;5;241m*\u001b[39mpopenargs, \u001b[38;5;241m*\u001b[39m\u001b[38;5;241m*\u001b[39mkwargs) \u001b[38;5;28;01mas\u001b[39;00m p:\n\u001b[1;32m    390\u001b[0m     \u001b[38;5;28;01mtry\u001b[39;00m:\n\u001b[0;32m--> 391\u001b[0m         \u001b[38;5;28;01mreturn\u001b[39;00m p\u001b[38;5;241m.\u001b[39mwait(timeout\u001b[38;5;241m=\u001b[39mtimeout)\n\u001b[1;32m    392\u001b[0m     \u001b[38;5;28;01mexcept\u001b[39;00m:  \u001b[38;5;66;03m# Including KeyboardInterrupt, wait handled that.\u001b[39;00m\n\u001b[1;32m    393\u001b[0m         p\u001b[38;5;241m.\u001b[39mkill()\n",
      "File \u001b[0;32m~/Documents/anaconda/anaconda3/lib/python3.11/subprocess.py:1264\u001b[0m, in \u001b[0;36mPopen.wait\u001b[0;34m(self, timeout)\u001b[0m\n\u001b[1;32m   1262\u001b[0m     endtime \u001b[38;5;241m=\u001b[39m _time() \u001b[38;5;241m+\u001b[39m timeout\n\u001b[1;32m   1263\u001b[0m \u001b[38;5;28;01mtry\u001b[39;00m:\n\u001b[0;32m-> 1264\u001b[0m     \u001b[38;5;28;01mreturn\u001b[39;00m \u001b[38;5;28mself\u001b[39m\u001b[38;5;241m.\u001b[39m_wait(timeout\u001b[38;5;241m=\u001b[39mtimeout)\n\u001b[1;32m   1265\u001b[0m \u001b[38;5;28;01mexcept\u001b[39;00m \u001b[38;5;167;01mKeyboardInterrupt\u001b[39;00m:\n\u001b[1;32m   1266\u001b[0m     \u001b[38;5;66;03m# https://bugs.python.org/issue25942\u001b[39;00m\n\u001b[1;32m   1267\u001b[0m     \u001b[38;5;66;03m# The first keyboard interrupt waits briefly for the child to\u001b[39;00m\n\u001b[1;32m   1268\u001b[0m     \u001b[38;5;66;03m# exit under the common assumption that it also received the ^C\u001b[39;00m\n\u001b[1;32m   1269\u001b[0m     \u001b[38;5;66;03m# generated SIGINT and will exit rapidly.\u001b[39;00m\n\u001b[1;32m   1270\u001b[0m     \u001b[38;5;28;01mif\u001b[39;00m timeout \u001b[38;5;129;01mis\u001b[39;00m \u001b[38;5;129;01mnot\u001b[39;00m \u001b[38;5;28;01mNone\u001b[39;00m:\n",
      "File \u001b[0;32m~/Documents/anaconda/anaconda3/lib/python3.11/subprocess.py:2046\u001b[0m, in \u001b[0;36mPopen._wait\u001b[0;34m(self, timeout)\u001b[0m\n\u001b[1;32m   2044\u001b[0m \u001b[38;5;28;01mif\u001b[39;00m \u001b[38;5;28mself\u001b[39m\u001b[38;5;241m.\u001b[39mreturncode \u001b[38;5;129;01mis\u001b[39;00m \u001b[38;5;129;01mnot\u001b[39;00m \u001b[38;5;28;01mNone\u001b[39;00m:\n\u001b[1;32m   2045\u001b[0m     \u001b[38;5;28;01mbreak\u001b[39;00m  \u001b[38;5;66;03m# Another thread waited.\u001b[39;00m\n\u001b[0;32m-> 2046\u001b[0m (pid, sts) \u001b[38;5;241m=\u001b[39m \u001b[38;5;28mself\u001b[39m\u001b[38;5;241m.\u001b[39m_try_wait(\u001b[38;5;241m0\u001b[39m)\n\u001b[1;32m   2047\u001b[0m \u001b[38;5;66;03m# Check the pid and loop as waitpid has been known to\u001b[39;00m\n\u001b[1;32m   2048\u001b[0m \u001b[38;5;66;03m# return 0 even without WNOHANG in odd situations.\u001b[39;00m\n\u001b[1;32m   2049\u001b[0m \u001b[38;5;66;03m# http://bugs.python.org/issue14396.\u001b[39;00m\n\u001b[1;32m   2050\u001b[0m \u001b[38;5;28;01mif\u001b[39;00m pid \u001b[38;5;241m==\u001b[39m \u001b[38;5;28mself\u001b[39m\u001b[38;5;241m.\u001b[39mpid:\n",
      "File \u001b[0;32m~/Documents/anaconda/anaconda3/lib/python3.11/subprocess.py:2004\u001b[0m, in \u001b[0;36mPopen._try_wait\u001b[0;34m(self, wait_flags)\u001b[0m\n\u001b[1;32m   2002\u001b[0m \u001b[38;5;250m\u001b[39m\u001b[38;5;124;03m\"\"\"All callers to this function MUST hold self._waitpid_lock.\"\"\"\u001b[39;00m\n\u001b[1;32m   2003\u001b[0m \u001b[38;5;28;01mtry\u001b[39;00m:\n\u001b[0;32m-> 2004\u001b[0m     (pid, sts) \u001b[38;5;241m=\u001b[39m os\u001b[38;5;241m.\u001b[39mwaitpid(\u001b[38;5;28mself\u001b[39m\u001b[38;5;241m.\u001b[39mpid, wait_flags)\n\u001b[1;32m   2005\u001b[0m \u001b[38;5;28;01mexcept\u001b[39;00m \u001b[38;5;167;01mChildProcessError\u001b[39;00m:\n\u001b[1;32m   2006\u001b[0m     \u001b[38;5;66;03m# This happens if SIGCLD is set to be ignored or waiting\u001b[39;00m\n\u001b[1;32m   2007\u001b[0m     \u001b[38;5;66;03m# for child processes has otherwise been disabled for our\u001b[39;00m\n\u001b[1;32m   2008\u001b[0m     \u001b[38;5;66;03m# process.  This child is dead, we can't get the status.\u001b[39;00m\n\u001b[1;32m   2009\u001b[0m     pid \u001b[38;5;241m=\u001b[39m \u001b[38;5;28mself\u001b[39m\u001b[38;5;241m.\u001b[39mpid\n",
      "\u001b[0;31mKeyboardInterrupt\u001b[0m: "
     ]
    }
   ],
   "source": [
    "import cv2\n",
    "from cv2 import VideoWriter\n",
    "from cv2 import VideoWriter_fourcc\n",
    "import pyautogui as pg\n",
    "import numpy as np\n",
    "\n",
    "\n",
    "# video = VideoWriter('desktop.mp4', VideoWriter_fourcc(*'MP42'), 7, (1366, 768))\n",
    "\n",
    "while True:\n",
    "    screenshot = cv2.cvtColor(np.array(pg.screenshot(region=(1272, 676, 1327-1272, 834-676))), cv2.COLOR_RGB2BGR)\n",
    "    \n",
    "#     video.write(screenshot) # write video frame\n",
    "    \n",
    "    cv2.imshow('Screenshot', screenshot) # display screenshot in a window\n",
    "    \n",
    "    if cv2.waitKey(1) & 0xFF == 27: break # escape condition\n",
    "        \n",
    "\n",
    "cv2.destroyAllWindows() # clean ups\n",
    "    "
   ]
  },
  {
   "cell_type": "code",
   "execution_count": 11,
   "id": "11f3ca0c",
   "metadata": {},
   "outputs": [
    {
     "data": {
      "text/plain": [
       "Point(x=1322, y=677)"
      ]
     },
     "execution_count": 11,
     "metadata": {},
     "output_type": "execute_result"
    }
   ],
   "source": [
    "pg.position()"
   ]
  },
  {
   "cell_type": "code",
   "execution_count": 12,
   "id": "d94ae075",
   "metadata": {},
   "outputs": [
    {
     "data": {
      "text/plain": [
       "Point(x=1377, y=678)"
      ]
     },
     "execution_count": 12,
     "metadata": {},
     "output_type": "execute_result"
    }
   ],
   "source": [
    "pg.position()"
   ]
  },
  {
   "cell_type": "code",
   "execution_count": 13,
   "id": "037e9ccd",
   "metadata": {},
   "outputs": [
    {
     "data": {
      "text/plain": [
       "Point(x=1323, y=835)"
      ]
     },
     "execution_count": 13,
     "metadata": {},
     "output_type": "execute_result"
    }
   ],
   "source": [
    "pg.position()"
   ]
  },
  {
   "cell_type": "code",
   "execution_count": 14,
   "id": "5a2a787e",
   "metadata": {},
   "outputs": [
    {
     "data": {
      "text/plain": [
       "Point(x=1380, y=833)"
      ]
     },
     "execution_count": 14,
     "metadata": {},
     "output_type": "execute_result"
    }
   ],
   "source": [
    "pg.position()"
   ]
  },
  {
   "cell_type": "code",
   "execution_count": null,
   "id": "857cbf6b",
   "metadata": {},
   "outputs": [],
   "source": []
  },
  {
   "cell_type": "code",
   "execution_count": null,
   "id": "4fe38a2c",
   "metadata": {},
   "outputs": [],
   "source": [
    "1272, "
   ]
  },
  {
   "cell_type": "code",
   "execution_count": 25,
   "id": "949e7f4a",
   "metadata": {},
   "outputs": [
    {
     "data": {
      "image/png": "[encoded data removed]",
      "text/plain": [
       "<PIL.Image.Image image mode=RGBA size=42x150>"
      ]
     },
     "execution_count": 25,
     "metadata": {},
     "output_type": "execute_result"
    }
   ],
   "source": [
    "pg.screenshot(region=(1328, 677, 42, 150))"
   ]
  },
  {
   "cell_type": "code",
   "execution_count": 26,
   "id": "3033c540",
   "metadata": {},
   "outputs": [
    {
     "data": {
      "text/plain": [
       "'130.00\\n\\n44.00\\n\\n1.00\\n'"
      ]
     },
     "execution_count": 26,
     "metadata": {},
     "output_type": "execute_result"
    }
   ],
   "source": [
    "import pytesseract\n",
    "import pyautogui as pg\n",
    "\n",
    "pytesseract.image_to_string(pg.screenshot(region=(1328, 677, 42, 150)))"
   ]
  },
  {
   "cell_type": "code",
   "execution_count": 5,
   "id": "1dfe8a06",
   "metadata": {
    "code_folding": []
   },
   "outputs": [
    {
     "name": "stderr",
     "output_type": "stream",
     "text": [
      "\n",
      "KeyboardInterrupt\n",
      "\n"
     ]
    }
   ],
   "source": [
    "import numpy as np \n",
    "import cv2 \n",
    "\n",
    "import pyautogui as pg\n",
    "\n",
    "\n",
    "# Capturing video through webcam \n",
    "# webcam = cv2.VideoCapture(0) \n",
    "\n",
    "# Start a while loop \n",
    "while(1): \n",
    "\t\n",
    "\t# Reading the video from the \n",
    "\t# webcam in image frames \n",
    "\t# _, imageFrame = webcam.read() \n",
    "\n",
    "\t# Convert the imageFrame in \n",
    "\t# BGR(RGB color space) to \n",
    "\t# HSV(hue-saturation-value) \n",
    "\t# color space \n",
    "\t# hsvFrame = cv2.cvtColor(imageFrame, cv2.COLOR_BGR2HSV) \n",
    "\timageFrame = np.array(pg.screenshot(region=(1272, 676, 1327-1272, 834-676)))\n",
    "\thsvFrame = cv2.cvtColor(imageFrame, cv2.COLOR_BGR2HSV)\n",
    "\n",
    "\t# Set range for red color and \n",
    "\t# define mask \n",
    "\tred_lower = np.array([136, 87, 111], np.uint8) \n",
    "\tred_upper = np.array([180, 255, 255], np.uint8) \n",
    "\tred_mask = cv2.inRange(hsvFrame, red_lower, red_upper) \n",
    "\n",
    "\t# Set range for green color and \n",
    "\t# define mask \n",
    "\tgreen_lower = np.array([25, 52, 72], np.uint8) \n",
    "\tgreen_upper = np.array([102, 255, 255], np.uint8) \n",
    "\tgreen_mask = cv2.inRange(hsvFrame, green_lower, green_upper) \n",
    "\n",
    "\t# Set range for blue color and \n",
    "\t# define mask \n",
    "\tblue_lower = np.array([94, 80, 2], np.uint8) \n",
    "\tblue_upper = np.array([120, 255, 255], np.uint8) \n",
    "\tblue_mask = cv2.inRange(hsvFrame, blue_lower, blue_upper) \n",
    "\t\n",
    "\t# Morphological Transform, Dilation \n",
    "\t# for each color and bitwise_and operator \n",
    "\t# between imageFrame and mask determines \n",
    "\t# to detect only that particular color \n",
    "\tkernel = np.ones((5, 5), \"uint8\") \n",
    "\t\n",
    "\t# For red color \n",
    "\tred_mask = cv2.dilate(red_mask, kernel) \n",
    "\tres_red = cv2.bitwise_and(imageFrame, imageFrame, \n",
    "\t\t\t\t\t\t\tmask = red_mask) \n",
    "\t\n",
    "\t# For green color \n",
    "\tgreen_mask = cv2.dilate(green_mask, kernel) \n",
    "\tres_green = cv2.bitwise_and(imageFrame, imageFrame, \n",
    "\t\t\t\t\t\t\t\tmask = green_mask) \n",
    "\t\n",
    "\t# For blue color \n",
    "\tblue_mask = cv2.dilate(blue_mask, kernel) \n",
    "\tres_blue = cv2.bitwise_and(imageFrame, imageFrame, \n",
    "\t\t\t\t\t\t\tmask = blue_mask) \n",
    "\n",
    "\t# Creating contour to track red color \n",
    "\tcontours, hierarchy = cv2.findContours(red_mask, \n",
    "\t\t\t\t\t\t\t\t\t\tcv2.RETR_TREE, \n",
    "\t\t\t\t\t\t\t\t\t\tcv2.CHAIN_APPROX_SIMPLE) \n",
    "\t\n",
    "\tfor pic, contour in enumerate(contours): \n",
    "\t\tarea = cv2.contourArea(contour) \n",
    "\t\tif(area > 300): \n",
    "\t\t\tx, y, w, h = cv2.boundingRect(contour) \n",
    "\t\t\timageFrame = cv2.rectangle(imageFrame, (x, y), \n",
    "\t\t\t\t\t\t\t\t\t(x + w, y + h), \n",
    "\t\t\t\t\t\t\t\t\t(0, 0, 255), 2) \n",
    "\t\t\t\n",
    "\t\t\tcv2.putText(imageFrame, \"Red Colour\", (x, y), \n",
    "\t\t\t\t\t\tcv2.FONT_HERSHEY_SIMPLEX, 1.0, \n",
    "\t\t\t\t\t\t(0, 0, 255))\t \n",
    "\n",
    "\t# Creating contour to track green color \n",
    "\tcontours, hierarchy = cv2.findContours(green_mask, \n",
    "\t\t\t\t\t\t\t\t\t\tcv2.RETR_TREE, \n",
    "\t\t\t\t\t\t\t\t\t\tcv2.CHAIN_APPROX_SIMPLE) \n",
    "\t\n",
    "\tfor pic, contour in enumerate(contours): \n",
    "\t\tarea = cv2.contourArea(contour) \n",
    "\t\tif(area > 300): \n",
    "\t\t\tx, y, w, h = cv2.boundingRect(contour) \n",
    "\t\t\timageFrame = cv2.rectangle(imageFrame, (x, y), \n",
    "\t\t\t\t\t\t\t\t\t(x + w, y + h), \n",
    "\t\t\t\t\t\t\t\t\t(0, 255, 0), 2) \n",
    "\t\t\t\n",
    "\t\t\tcv2.putText(imageFrame, \"Green Colour\", (x, y), \n",
    "\t\t\t\t\t\tcv2.FONT_HERSHEY_SIMPLEX, \n",
    "\t\t\t\t\t\t1.0, (0, 255, 0)) \n",
    "\n",
    "\t# Creating contour to track blue color \n",
    "\tcontours, hierarchy = cv2.findContours(blue_mask, \n",
    "\t\t\t\t\t\t\t\t\t\tcv2.RETR_TREE, \n",
    "\t\t\t\t\t\t\t\t\t\tcv2.CHAIN_APPROX_SIMPLE) \n",
    "\tfor pic, contour in enumerate(contours): \n",
    "\t\tarea = cv2.contourArea(contour) \n",
    "\t\tif(area > 300): \n",
    "\t\t\tx, y, w, h = cv2.boundingRect(contour) \n",
    "\t\t\timageFrame = cv2.rectangle(imageFrame, (x, y), \n",
    "\t\t\t\t\t\t\t\t\t(x + w, y + h), \n",
    "\t\t\t\t\t\t\t\t\t(255, 0, 0), 2) \n",
    "\t\t\t\n",
    "\t\t\tcv2.putText(imageFrame, \"Blue Colour\", (x, y), \n",
    "\t\t\t\t\t\tcv2.FONT_HERSHEY_SIMPLEX, \n",
    "\t\t\t\t\t\t1.0, (255, 0, 0)) \n",
    "\t\t\t\n",
    "\t# Program Termination \n",
    "\tcv2.imshow(\"Multiple Color Detection in Real-TIme\", imageFrame) \n",
    "\tif cv2.waitKey(10) & 0xFF == ord('q'): \n",
    "\t\twebcam.release() \n",
    "\t\tcv2.destroyAllWindows() \n",
    "\t\tbreak"
   ]
  },
  {
   "cell_type": "code",
   "execution_count": 47,
   "id": "32f84a7f",
   "metadata": {},
   "outputs": [
    {
     "data": {
      "image/png": "[encoded data removed]",
      "text/plain": [
       "<PIL.Image.Image image mode=RGBA size=50x150>"
      ]
     },
     "execution_count": 47,
     "metadata": {},
     "output_type": "execute_result"
    }
   ],
   "source": [
    "import pyautogui as pg\n",
    "\n",
    "tgtregion = (1322, 679, 50, 150)\n",
    "pg.screenshot(region=tgtregion)"
   ]
  },
  {
   "cell_type": "code",
   "execution_count": 48,
   "id": "a9a1e216",
   "metadata": {},
   "outputs": [],
   "source": [
    "img = np.array(pg.screenshot(region=tgtregion))\n",
    "hsv = cv2.cvtColor(img, cv2.COLOR_BGR2HSV)\n",
    "\n",
    "red_lower = np.array([136, 87, 111], np.uint8) \n",
    "red_upper = np.array([180, 255, 255], np.uint8) \n",
    "red_mask = cv2.inRange(hsv, red_lower, red_upper)"
   ]
  },
  {
   "cell_type": "code",
   "execution_count": 49,
   "id": "9aa67c2e",
   "metadata": {},
   "outputs": [],
   "source": [
    "# plt.imshow(red_mask, cmap='gray')"
   ]
  },
  {
   "cell_type": "code",
   "execution_count": 50,
   "id": "c9c1b20f",
   "metadata": {},
   "outputs": [
    {
     "name": "stdout",
     "output_type": "stream",
     "text": [
      "Box 1: 44.30\n"
     ]
    }
   ],
   "source": [
    "contours, _ = cv2.findContours(red_mask, cv2.RETR_EXTERNAL, cv2.CHAIN_APPROX_SIMPLE)\n",
    "\n",
    "# Optional: sort contours by area if needed\n",
    "contours = sorted(contours, key=cv2.contourArea, reverse=True)\n",
    "\n",
    "rois = []\n",
    "for cnt in contours:\n",
    "    x, y, w, h = cv2.boundingRect(cnt)\n",
    "    roi = img[y:y+h, x:x+w]\n",
    "    rois.append(roi)\n",
    "    \n",
    "import pytesseract\n",
    "\n",
    "# Optional: preprocess ROI (convert to grayscale, threshold)\n",
    "def preprocess(roi):\n",
    "    gray = cv2.cvtColor(roi, cv2.COLOR_BGR2GRAY)\n",
    "    _, thresh = cv2.threshold(gray, 100, 255, cv2.THRESH_BINARY + cv2.THRESH_OTSU)\n",
    "    return thresh\n",
    "\n",
    "for i, roi in enumerate(rois):\n",
    "    processed = preprocess(roi)\n",
    "    text = pytesseract.image_to_string(processed, config='--psm 7 digits')\n",
    "    print(f\"Box {i+1}: {text.strip()}\")"
   ]
  },
  {
   "cell_type": "code",
   "execution_count": null,
   "id": "bbaa18b5",
   "metadata": {},
   "outputs": [],
   "source": []
  },
  {
   "cell_type": "code",
   "execution_count": null,
   "id": "c4ab6cc7",
   "metadata": {},
   "outputs": [],
   "source": []
  },
  {
   "cell_type": "code",
   "execution_count": 19,
   "id": "1f3e1c51",
   "metadata": {},
   "outputs": [
    {
     "data": {
      "text/plain": [
       "'128.00\\n\\n89.00\\n\\n11.00\\n'"
      ]
     },
     "execution_count": 19,
     "metadata": {},
     "output_type": "execute_result"
    }
   ],
   "source": [
    "import pytesseract\n",
    "pytesseract.image_to_string(pg.screenshot(region=tgtregion))"
   ]
  },
  {
   "cell_type": "code",
   "execution_count": 20,
   "id": "012ddf68",
   "metadata": {},
   "outputs": [],
   "source": [
    "import matplotlib.pyplot as plt"
   ]
  },
  {
   "cell_type": "code",
   "execution_count": 21,
   "id": "9f6b44fd",
   "metadata": {},
   "outputs": [],
   "source": [
    "import cv2\n",
    "import numpy as np\n",
    "\n",
    "# img = cv2.imread('your_image.png')\n",
    "imageFrame = np.array(pg.screenshot(region=tgtregion))\n",
    "img = np.array(pg.screenshot(region=tgtregion))\n",
    "hsv = cv2.cvtColor(img, cv2.COLOR_BGR2HSV)"
   ]
  },
  {
   "cell_type": "code",
   "execution_count": null,
   "id": "4c40540a",
   "metadata": {},
   "outputs": [],
   "source": [
    "# load image\n",
    "# img = cv2.imread(\"city.png\")\n",
    "# add blur because of pixel artefacts \n",
    "img = cv2.GaussianBlur(img, (5, 5),5)\n",
    "# convert to HSV\n",
    "hsv = cv2.cvtColor(img, cv2.COLOR_BGR2HSV) \n",
    "# set lower and upper color limits\n",
    "lower_val = (40, 100, 100)\n",
    "upper_val = (60,255,200)\n",
    "# Threshold the HSV image to get only green colors\n",
    "mask = cv2.inRange(hsv, lower_val, upper_val)\n",
    "# apply mask to original image\n",
    "res = cv2.bitwise_and(img,img, mask= mask)\n",
    "#show imag\n",
    "cv2.imshow(\"Result\", res)\n",
    "# detect contours in image\n",
    "contours, hierarchy = cv2.findContours(mask, cv2.RETR_TREE, cv2.CHAIN_APPROX_SIMPLE)\n",
    "# draw filled contour on result\n",
    "for cnt in contours:\n",
    "    cv2.drawContours(res, [cnt], 0, (0,0,255), 2)\n",
    "# detect edges in mask\n",
    "edges = cv2.Canny(mask,100,100)\n",
    "# to save an image use cv2.imwrite('filename.png',img)\n",
    "#show images\n",
    "cv2.imshow(\"Result_with_contours\", res)\n",
    "cv2.imshow(\"Mask\", mask)\n",
    "cv2.imshow(\"Edges\", edges)\n",
    "cv2.waitKey(0)\n",
    "cv2.destroyAllWindows()"
   ]
  },
  {
   "cell_type": "code",
   "execution_count": 22,
   "id": "d1994edc",
   "metadata": {},
   "outputs": [],
   "source": [
    "red_lower = np.array([136, 87, 111], np.uint8) \n",
    "red_upper = np.array([180, 255, 255], np.uint8) \n",
    "red_mask = cv2.inRange(hsv, red_lower, red_upper)"
   ]
  },
  {
   "cell_type": "code",
   "execution_count": 25,
   "id": "c426efa2",
   "metadata": {},
   "outputs": [
    {
     "data": {
      "text/plain": [
       "<matplotlib.image.AxesImage at 0x1682bc310>"
      ]
     },
     "execution_count": 25,
     "metadata": {},
     "output_type": "execute_result"
    },
    {
     "data": {
      "image/png": "[encoded data removed]",
      "text/plain": [
       "<Figure size 640x480 with 1 Axes>"
      ]
     },
     "metadata": {},
     "output_type": "display_data"
    }
   ],
   "source": [
    "plt.imshow(red_mask, cmap='gray')"
   ]
  },
  {
   "cell_type": "code",
   "execution_count": 27,
   "id": "6af16e3d",
   "metadata": {},
   "outputs": [],
   "source": [
    "plt.imsave('red_mask.png', red_mask, cmap='gray')"
   ]
  },
  {
   "cell_type": "code",
   "execution_count": 28,
   "id": "30fdbcf2",
   "metadata": {},
   "outputs": [
    {
     "data": {
      "text/plain": [
       "''"
      ]
     },
     "execution_count": 28,
     "metadata": {},
     "output_type": "execute_result"
    }
   ],
   "source": [
    "pytesseract.image_to_string('red_mask.png')"
   ]
  },
  {
   "cell_type": "code",
   "execution_count": null,
   "id": "1feaded0",
   "metadata": {},
   "outputs": [],
   "source": [
    "# Creating contour to track red color \n",
    "contours, hierarchy = cv2.findContours(purple_mask, \n",
    "                                    cv2.RETR_TREE, \n",
    "                                    cv2.CHAIN_APPROX_SIMPLE) \n",
    "while(1):\n",
    "    for pic, contour in enumerate(contours): \n",
    "        area = cv2.contourArea(contour) \n",
    "        if(area > 300): \n",
    "            x, y, w, h = cv2.boundingRect(contour) \n",
    "            imageFrame = cv2.rectangle(imageFrame, (x, y), \n",
    "                                    (x + w, y + h), \n",
    "                                    (0, 0, 255), 2) \n",
    "\n",
    "            cv2.putText(imageFrame, \"Purple Colour\", (x, y), \n",
    "                        cv2.FONT_HERSHEY_SIMPLEX, 1.0, \n",
    "                        (0, 0, 255))\n",
    "    # Program Termination \n",
    "    cv2.imshow(\"Multiple Color Detection in Real-TIme\", imageFrame) \n",
    "    if cv2.waitKey(10) & 0xFF == ord('q'): \n",
    "        cv2.destroyAllWindows() \n",
    "        break"
   ]
  },
  {
   "cell_type": "code",
   "execution_count": 20,
   "id": "b0242589",
   "metadata": {},
   "outputs": [],
   "source": [
    "krn = cv2.getStructuringElement(cv2.MORPH_RECT, (5, 3))\n",
    "dlt = cv2.dilate(purple_mask, krn, iterations=1)\n",
    "thr = 255 - cv2.bitwise_and(dlt, purple_mask)"
   ]
  },
  {
   "cell_type": "code",
   "execution_count": 23,
   "id": "46530561",
   "metadata": {},
   "outputs": [],
   "source": [
    "cv2.imshow(\"Multiple Color Detection in Real-TIme\", thr) "
   ]
  },
  {
   "cell_type": "code",
   "execution_count": 25,
   "id": "6b273c38",
   "metadata": {},
   "outputs": [
    {
     "data": {
      "text/plain": [
       "':\\n'"
      ]
     },
     "execution_count": 25,
     "metadata": {},
     "output_type": "execute_result"
    }
   ],
   "source": [
    "pytesseract.image_to_string(thr, config=\"--psm 10\")"
   ]
  },
  {
   "cell_type": "code",
   "execution_count": null,
   "id": "2b84b9a1",
   "metadata": {},
   "outputs": [],
   "source": []
  },
  {
   "cell_type": "code",
   "execution_count": 34,
   "id": "b83211d4",
   "metadata": {},
   "outputs": [
    {
     "name": "stdout",
     "output_type": "stream",
     "text": [
      "Box 1: 65.02\n"
     ]
    }
   ],
   "source": [
    "red_lower = np.array([136, 87, 111], np.uint8) \n",
    "red_upper = np.array([180, 255, 255], np.uint8) \n",
    "red_mask = cv2.inRange(hsv, red_lower, red_upper)\n",
    "\n",
    "contours, _ = cv2.findContours(red_mask, cv2.RETR_EXTERNAL, cv2.CHAIN_APPROX_SIMPLE)\n",
    "\n",
    "# Optional: sort contours by area if needed\n",
    "contours = sorted(contours, key=cv2.contourArea, reverse=True)\n",
    "\n",
    "rois = []\n",
    "for cnt in contours:\n",
    "    x, y, w, h = cv2.boundingRect(cnt)\n",
    "    roi = img[y:y+h, x:x+w]\n",
    "    rois.append(roi)\n",
    "    \n",
    "import pytesseract\n",
    "\n",
    "# Optional: preprocess ROI (convert to grayscale, threshold)\n",
    "def preprocess(roi):\n",
    "    gray = cv2.cvtColor(roi, cv2.COLOR_BGR2GRAY)\n",
    "    _, thresh = cv2.threshold(gray, 100, 255, cv2.THRESH_BINARY + cv2.THRESH_OTSU)\n",
    "    return thresh\n",
    "\n",
    "for i, roi in enumerate(rois):\n",
    "    processed = preprocess(roi)\n",
    "    text = pytesseract.image_to_string(processed, config='--psm 7 digits')\n",
    "    print(f\"Box {i+1}: {text.strip()}\")"
   ]
  },
  {
   "cell_type": "code",
   "execution_count": 6,
   "id": "aa553461",
   "metadata": {},
   "outputs": [
    {
     "data": {
      "text/plain": [
       "''"
      ]
     },
     "execution_count": 6,
     "metadata": {},
     "output_type": "execute_result"
    }
   ],
   "source": [
    "text"
   ]
  },
  {
   "cell_type": "code",
   "execution_count": null,
   "id": "24f23081",
   "metadata": {},
   "outputs": [],
   "source": []
  },
  {
   "cell_type": "code",
   "execution_count": null,
   "id": "f47c6b75",
   "metadata": {},
   "outputs": [],
   "source": []
  },
  {
   "cell_type": "code",
   "execution_count": null,
   "id": "0e359d4e",
   "metadata": {},
   "outputs": [],
   "source": []
  },
  {
   "cell_type": "code",
   "execution_count": null,
   "id": "6bd45b71",
   "metadata": {},
   "outputs": [],
   "source": []
  },
  {
   "cell_type": "code",
   "execution_count": 33,
   "id": "8dc75da3",
   "metadata": {},
   "outputs": [
    {
     "name": "stdout",
     "output_type": "stream",
     "text": [
      "Detected number: 6502\n",
      "Detected number: \n",
      "Detected number: \n",
      "Detected number: 2\n",
      "Detected number: 0\n",
      "Detected number: \n",
      "Detected number: 6\n",
      "Detected number: \n"
     ]
    }
   ],
   "source": [
    "red_lower = np.array([136, 87, 111], np.uint8) \n",
    "red_upper = np.array([180, 255, 255], np.uint8) \n",
    "red_mask = cv2.inRange(hsv, red_lower, red_upper)\n",
    "\n",
    "# contours, _ = cv2.findContours(mask, cv2.RETR_EXTERNAL, cv2.CHAIN_APPROX_SIMPLE)\n",
    "\n",
    "# kernel = np.ones((5, 5), \"uint8\")\n",
    "# mask = cv2.dilate(mask, kernel) \n",
    "contours, hierarchy = cv2.findContours(red_mask, cv2.RETR_TREE, cv2.CHAIN_APPROX_SIMPLE) \n",
    "\n",
    "import pytesseract\n",
    "\n",
    "for cnt in contours:\n",
    "    x, y, w, h = cv2.boundingRect(cnt)\n",
    "    roi = img[y:y+h, x:x+w]\n",
    "\n",
    "    # Convert to grayscale\n",
    "    gray = cv2.cvtColor(roi, cv2.COLOR_BGR2GRAY)\n",
    "\n",
    "    # Invert grayscale image (white digits become dark on light background)\n",
    "    inverted = cv2.bitwise_not(gray)\n",
    "\n",
    "    # Apply thresholding to isolate the digits\n",
    "    _, binary = cv2.threshold(inverted, 0, 255, cv2.THRESH_BINARY + cv2.THRESH_OTSU)\n",
    "\n",
    "    # OCR: focus on digits only\n",
    "    text = pytesseract.image_to_string(binary, config='--psm 7 -c tessedit_char_whitelist=0123456789')\n",
    "    print(f\"Detected number: {text.strip()}\")"
   ]
  },
  {
   "cell_type": "code",
   "execution_count": 4,
   "id": "5bc144cf",
   "metadata": {},
   "outputs": [
    {
     "data": {
      "text/plain": [
       "(array([[[103, 110]]], dtype=int32),\n",
       " array([[[105, 106]],\n",
       " \n",
       "        [[105, 107]]], dtype=int32),\n",
       " array([[[ 82, 104]]], dtype=int32),\n",
       " array([[[ 81, 101]],\n",
       " \n",
       "        [[ 81, 102]]], dtype=int32),\n",
       " array([[[ 72, 100]]], dtype=int32),\n",
       " array([[[80, 97]],\n",
       " \n",
       "        [[80, 98]]], dtype=int32),\n",
       " array([[[74, 97]]], dtype=int32),\n",
       " array([[[79, 95]]], dtype=int32),\n",
       " array([[[149,  64]]], dtype=int32))"
      ]
     },
     "execution_count": 4,
     "metadata": {},
     "output_type": "execute_result"
    }
   ],
   "source": [
    "contours"
   ]
  },
  {
   "cell_type": "code",
   "execution_count": null,
   "id": "658da77e",
   "metadata": {},
   "outputs": [],
   "source": [
    "for cnt in contours:\n",
    "    x, y, w, h = cv2.boundingRect(cnt)\n",
    "    cv2.rectangle(img, (x, y), (x+w, y+h), (0, 255, 0), 2)\n",
    "    # Optionally, display detected text at the top of each box\n",
    "    cv2.putText(img, text.strip(), (x, y - 5), cv2.FONT_HERSHEY_SIMPLEX, 0.6, (255, 255, 255), 2)\n",
    "\n",
    "cv2.imshow(\"Detected\", img)\n",
    "cv2.waitKey(0)\n",
    "cv2.destroyAllWindows()\n"
   ]
  },
  {
   "cell_type": "code",
   "execution_count": 53,
   "id": "8e9841cc",
   "metadata": {},
   "outputs": [
    {
     "data": {
      "text/plain": [
       "8"
      ]
     },
     "execution_count": 53,
     "metadata": {},
     "output_type": "execute_result"
    }
   ],
   "source": [
    "reslist = [1,2,3,4,5,6,7,8,1,2,4,8,3,2,5,6,7,]\n",
    "np.max(reslist[-60//5:])"
   ]
  },
  {
   "cell_type": "code",
   "execution_count": 54,
   "id": "4bc6e32e",
   "metadata": {},
   "outputs": [
    {
     "data": {
      "text/plain": [
       "2"
      ]
     },
     "execution_count": 54,
     "metadata": {},
     "output_type": "execute_result"
    }
   ],
   "source": [
    "np.argmax(reslist[-60//5:])"
   ]
  },
  {
   "cell_type": "code",
   "execution_count": 55,
   "id": "c55e61b4",
   "metadata": {},
   "outputs": [
    {
     "data": {
      "text/plain": [
       "1"
      ]
     },
     "execution_count": 55,
     "metadata": {},
     "output_type": "execute_result"
    }
   ],
   "source": [
    "lookbackw = 60//5\n",
    "np.min(reslist[-(lookbackw + np.argmax(reslist[-lookbackw:])):])"
   ]
  },
  {
   "cell_type": "code",
   "execution_count": null,
   "id": "f5c77041",
   "metadata": {},
   "outputs": [],
   "source": []
  },
  {
   "cell_type": "code",
   "execution_count": 11,
   "id": "c8beb601",
   "metadata": {},
   "outputs": [
    {
     "name": "stdout",
     "output_type": "stream",
     "text": [
      "\u001b[33mDEPRECATION: Loading egg at /Users/my/Documents/anaconda/anaconda3/lib/python3.11/site-packages/ibapi-10.30.1-py3.11.egg is deprecated. pip 23.3 will enforce this behaviour change. A possible replacement is to use pip for package installation..\u001b[0m\u001b[33m\n",
      "\u001b[0m\u001b[31mERROR: Could not find a version that satisfies the requirement pyimagesearch (from versions: none)\u001b[0m\u001b[31m\n",
      "\u001b[0m\u001b[31mERROR: No matching distribution found for pyimagesearch\u001b[0m\u001b[31m\n",
      "\u001b[0mNote: you may need to restart the kernel to use updated packages.\n"
     ]
    }
   ],
   "source": [
    "pip install pyimagesearch"
   ]
  },
  {
   "cell_type": "code",
   "execution_count": null,
   "id": "f24223f6",
   "metadata": {},
   "outputs": [],
   "source": []
  }
 ],
 "metadata": {
  "hide_input": false,
  "kernelspec": {
   "display_name": "Python 3 (ipykernel)",
   "language": "python",
   "name": "python3"
  },
  "language_info": {
   "codemirror_mode": {
    "name": "ipython",
    "version": 3
   },
   "file_extension": ".py",
   "mimetype": "text/x-python",
   "name": "python",
   "nbconvert_exporter": "python",
   "pygments_lexer": "ipython3",
   "version": "3.11.5"
  }
 },
 "nbformat": 4,
 "nbformat_minor": 5
}
